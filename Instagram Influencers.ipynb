{
 "cells": [
  {
   "cell_type": "code",
   "execution_count": 35,
   "id": "8331d5c2",
   "metadata": {},
   "outputs": [],
   "source": [
    "import pandas as pd\n",
    "import numpy as np\n",
    "import matplotlib.pyplot as plt"
   ]
  },
  {
   "cell_type": "code",
   "execution_count": 36,
   "id": "1b8eb459",
   "metadata": {},
   "outputs": [
    {
     "data": {
      "text/html": [
       "<div>\n",
       "<style scoped>\n",
       "    .dataframe tbody tr th:only-of-type {\n",
       "        vertical-align: middle;\n",
       "    }\n",
       "\n",
       "    .dataframe tbody tr th {\n",
       "        vertical-align: top;\n",
       "    }\n",
       "\n",
       "    .dataframe thead th {\n",
       "        text-align: right;\n",
       "    }\n",
       "</style>\n",
       "<table border=\"1\" class=\"dataframe\">\n",
       "  <thead>\n",
       "    <tr style=\"text-align: right;\">\n",
       "      <th></th>\n",
       "      <th>Rank</th>\n",
       "      <th>Channel Info</th>\n",
       "      <th>Influence Score</th>\n",
       "      <th>Followers</th>\n",
       "      <th>Avg. Likes</th>\n",
       "      <th>Posts</th>\n",
       "      <th>60-Day Eng Rate</th>\n",
       "      <th>New Post Avg. Likes</th>\n",
       "      <th>Total Likes</th>\n",
       "      <th>Country Or Region</th>\n",
       "    </tr>\n",
       "  </thead>\n",
       "  <tbody>\n",
       "    <tr>\n",
       "      <th>0</th>\n",
       "      <td>1</td>\n",
       "      <td>\\ncristiano</td>\n",
       "      <td>92</td>\n",
       "      <td>485.2m</td>\n",
       "      <td>8.7m</td>\n",
       "      <td>3.4k</td>\n",
       "      <td>0.013</td>\n",
       "      <td>6.3m</td>\n",
       "      <td>29.1b</td>\n",
       "      <td>Spain</td>\n",
       "    </tr>\n",
       "    <tr>\n",
       "      <th>1</th>\n",
       "      <td>2</td>\n",
       "      <td>kyliejenner</td>\n",
       "      <td>91</td>\n",
       "      <td>370.7m</td>\n",
       "      <td>8.2m</td>\n",
       "      <td>7.0k</td>\n",
       "      <td>0.014</td>\n",
       "      <td>5.0m</td>\n",
       "      <td>57.4b</td>\n",
       "      <td>United States</td>\n",
       "    </tr>\n",
       "    <tr>\n",
       "      <th>2</th>\n",
       "      <td>3</td>\n",
       "      <td>\\nleomessi</td>\n",
       "      <td>90</td>\n",
       "      <td>363.9m</td>\n",
       "      <td>6.7m</td>\n",
       "      <td>915</td>\n",
       "      <td>0.010</td>\n",
       "      <td>3.5m</td>\n",
       "      <td>6.1b</td>\n",
       "      <td>NaN</td>\n",
       "    </tr>\n",
       "    <tr>\n",
       "      <th>3</th>\n",
       "      <td>4</td>\n",
       "      <td>\\nselenagomez</td>\n",
       "      <td>93</td>\n",
       "      <td>348.8m</td>\n",
       "      <td>6.1m</td>\n",
       "      <td>1.9k</td>\n",
       "      <td>0.005</td>\n",
       "      <td>1.7m</td>\n",
       "      <td>11.4b</td>\n",
       "      <td>United States</td>\n",
       "    </tr>\n",
       "    <tr>\n",
       "      <th>4</th>\n",
       "      <td>5</td>\n",
       "      <td>\\ntherock</td>\n",
       "      <td>91</td>\n",
       "      <td>339.4m</td>\n",
       "      <td>1.8m</td>\n",
       "      <td>6.8k</td>\n",
       "      <td>0.003</td>\n",
       "      <td>932.0k</td>\n",
       "      <td>12.6b</td>\n",
       "      <td>United States</td>\n",
       "    </tr>\n",
       "  </tbody>\n",
       "</table>\n",
       "</div>"
      ],
      "text/plain": [
       "   Rank   Channel Info  Influence Score Followers Avg. Likes Posts  \\\n",
       "0     1    \\ncristiano               92    485.2m       8.7m  3.4k   \n",
       "1     2    kyliejenner               91    370.7m       8.2m  7.0k   \n",
       "2     3     \\nleomessi               90    363.9m       6.7m   915   \n",
       "3     4  \\nselenagomez               93    348.8m       6.1m  1.9k   \n",
       "4     5      \\ntherock               91    339.4m       1.8m  6.8k   \n",
       "\n",
       "   60-Day Eng Rate New Post Avg. Likes Total Likes Country Or Region  \n",
       "0            0.013                6.3m       29.1b             Spain  \n",
       "1            0.014                5.0m       57.4b     United States  \n",
       "2            0.010                3.5m        6.1b               NaN  \n",
       "3            0.005                1.7m       11.4b     United States  \n",
       "4            0.003              932.0k       12.6b     United States  "
      ]
     },
     "execution_count": 36,
     "metadata": {},
     "output_type": "execute_result"
    }
   ],
   "source": [
    "import pandas as pd\n",
    "df=pd.read_excel(r\"C:\\Users\\ADMIN\\Data sets\\Influencer.xlsx\")\n",
    "df.head()"
   ]
  },
  {
   "cell_type": "code",
   "execution_count": 37,
   "id": "d3688f2c",
   "metadata": {},
   "outputs": [
    {
     "data": {
      "text/plain": [
       "(200, 10)"
      ]
     },
     "execution_count": 37,
     "metadata": {},
     "output_type": "execute_result"
    }
   ],
   "source": [
    "df.shape"
   ]
  },
  {
   "cell_type": "code",
   "execution_count": 38,
   "id": "6d637281",
   "metadata": {},
   "outputs": [],
   "source": [
    "pd.set_option('display.max_columns',10)"
   ]
  },
  {
   "cell_type": "code",
   "execution_count": 39,
   "id": "4ff872a7",
   "metadata": {},
   "outputs": [],
   "source": [
    "pd.set_option('display.max_rows',200)"
   ]
  },
  {
   "cell_type": "code",
   "execution_count": 40,
   "id": "e0c8242c",
   "metadata": {},
   "outputs": [
    {
     "data": {
      "text/plain": [
       "Rank                     int64\n",
       "Channel Info            object\n",
       "Influence Score          int64\n",
       "Followers               object\n",
       "Avg. Likes              object\n",
       "Posts                   object\n",
       "60-Day Eng Rate        float64\n",
       "New Post Avg. Likes     object\n",
       "Total Likes             object\n",
       "Country Or Region       object\n",
       "dtype: object"
      ]
     },
     "execution_count": 40,
     "metadata": {},
     "output_type": "execute_result"
    }
   ],
   "source": [
    "df.dtypes"
   ]
  },
  {
   "cell_type": "code",
   "execution_count": 41,
   "id": "d52e168b",
   "metadata": {},
   "outputs": [
    {
     "name": "stdout",
     "output_type": "stream",
     "text": [
      "Rank                     int64\n",
      "Channel Info            string\n",
      "Influence Score          int64\n",
      "Followers               string\n",
      "Avg. Likes              string\n",
      "Posts                   string\n",
      "60-Day Eng Rate        float64\n",
      "New Post Avg. Likes     string\n",
      "Total Likes             string\n",
      "Country Or Region       object\n",
      "dtype: object\n"
     ]
    }
   ],
   "source": [
    "df = df.astype({'Followers':'string','Avg. Likes':'string','Posts':'string','New Post Avg. Likes':'string','Total Likes':'string','Channel Info':'string'})\n",
    "print(df.dtypes)"
   ]
  },
  {
   "cell_type": "code",
   "execution_count": 42,
   "id": "97eccae4",
   "metadata": {},
   "outputs": [],
   "source": [
    "post=list(df['Posts'])\n",
    "post1=list()\n",
    "for num in post:\n",
    "    if 'k' in num:\n",
    "        new_num=1000*float(num.replace('k',''))\n",
    "        post1.append(new_num)\n",
    "    else:\n",
    "        post1.append(float(num))\n",
    "df['Posts'] =post1"
   ]
  },
  {
   "cell_type": "code",
   "execution_count": 43,
   "id": "92977a34",
   "metadata": {},
   "outputs": [],
   "source": [
    "followers=list(df['Followers'])\n",
    "followers1=list()\n",
    "for num in followers:\n",
    "    if 'm' in num:\n",
    "        new_num=1000000*float(num.replace('m','')) \n",
    "        followers1.append(new_num)\n",
    "    else:\n",
    "        followers1.append(float(num))\n",
    "df['Followers']=followers1"
   ]
  },
  {
   "cell_type": "code",
   "execution_count": 44,
   "id": "6e8c7258",
   "metadata": {},
   "outputs": [],
   "source": [
    "avg_likes=list(df['Avg. Likes'])\n",
    "avg_likes1=list()\n",
    "for num in avg_likes:\n",
    "    if 'm' in num:\n",
    "        new_num=1000000*float(num.replace('m',''))\n",
    "        avg_likes1.append(new_num)\n",
    "    else:\n",
    "        new_num=1000*float(num.replace('k',''))\n",
    "        avg_likes1.append(new_num)\n",
    "df['Avg. Likes']=avg_likes1"
   ]
  },
  {
   "cell_type": "code",
   "execution_count": 45,
   "id": "11ebf003",
   "metadata": {},
   "outputs": [],
   "source": [
    "new_post_avg_like=list(df['New Post Avg. Likes'])\n",
    "new_post_avg_like1=list()\n",
    "for num in new_post_avg_like:\n",
    "    if 'm' in num:\n",
    "        new_num=1000000*float(num.replace('m',''))\n",
    "        new_post_avg_like1.append(new_num)\n",
    "    else:\n",
    "        new_num=1000*float(num.replace('k',''))\n",
    "        new_post_avg_like1.append(new_num)\n",
    "df['New Post Avg. Likes']=new_post_avg_like1"
   ]
  },
  {
   "cell_type": "code",
   "execution_count": 46,
   "id": "e6fdadc4",
   "metadata": {},
   "outputs": [],
   "source": [
    "total_likes=list(df['Total Likes'])\n",
    "total_likes1=list()\n",
    "for num in total_likes:\n",
    "    if 'b' in num:\n",
    "        new_num=1000000000*float(num.replace('b',''))\n",
    "        total_likes1.append(new_num)\n",
    "    else:\n",
    "        new_num=1000000*float(num.replace('m',''))\n",
    "        total_likes1.append(new_num)\n",
    "df['Total Likes']=total_likes1     "
   ]
  },
  {
   "cell_type": "code",
   "execution_count": 47,
   "id": "122d5775",
   "metadata": {},
   "outputs": [],
   "source": [
    "channelinfo=list(df['Channel Info'])\n",
    "channelinfo1=list()\n",
    "for num in channelinfo:\n",
    "    if '\\n' in num:\n",
    "        new_num=num.replace('\\n','')\n",
    "        channelinfo1.append(new_num)\n",
    "    else:\n",
    "        channelinfo1.append(num)\n",
    "df['Channel Info'] =channelinfo1"
   ]
  },
  {
   "cell_type": "code",
   "execution_count": 52,
   "id": "55451f34",
   "metadata": {},
   "outputs": [
    {
     "data": {
      "text/html": [
       "<div>\n",
       "<style scoped>\n",
       "    .dataframe tbody tr th:only-of-type {\n",
       "        vertical-align: middle;\n",
       "    }\n",
       "\n",
       "    .dataframe tbody tr th {\n",
       "        vertical-align: top;\n",
       "    }\n",
       "\n",
       "    .dataframe thead th {\n",
       "        text-align: right;\n",
       "    }\n",
       "</style>\n",
       "<table border=\"1\" class=\"dataframe\">\n",
       "  <thead>\n",
       "    <tr style=\"text-align: right;\">\n",
       "      <th></th>\n",
       "      <th>Rank</th>\n",
       "      <th>Channel Info</th>\n",
       "      <th>Influence Score</th>\n",
       "      <th>Followers</th>\n",
       "      <th>Avg. Likes</th>\n",
       "      <th>Posts</th>\n",
       "      <th>60-Day Eng Rate</th>\n",
       "      <th>New Post Avg. Likes</th>\n",
       "      <th>Total Likes</th>\n",
       "      <th>Country Or Region</th>\n",
       "    </tr>\n",
       "  </thead>\n",
       "  <tbody>\n",
       "    <tr>\n",
       "      <th>0</th>\n",
       "      <td>1</td>\n",
       "      <td>cristiano</td>\n",
       "      <td>92</td>\n",
       "      <td>485200000.0</td>\n",
       "      <td>8700000.0</td>\n",
       "      <td>3400.0</td>\n",
       "      <td>0.013</td>\n",
       "      <td>6300000.0</td>\n",
       "      <td>2.910000e+10</td>\n",
       "      <td>Spain</td>\n",
       "    </tr>\n",
       "    <tr>\n",
       "      <th>1</th>\n",
       "      <td>2</td>\n",
       "      <td>kyliejenner</td>\n",
       "      <td>91</td>\n",
       "      <td>370700000.0</td>\n",
       "      <td>8200000.0</td>\n",
       "      <td>7000.0</td>\n",
       "      <td>0.014</td>\n",
       "      <td>5000000.0</td>\n",
       "      <td>5.740000e+10</td>\n",
       "      <td>United States</td>\n",
       "    </tr>\n",
       "    <tr>\n",
       "      <th>2</th>\n",
       "      <td>3</td>\n",
       "      <td>leomessi</td>\n",
       "      <td>90</td>\n",
       "      <td>363900000.0</td>\n",
       "      <td>6700000.0</td>\n",
       "      <td>915.0</td>\n",
       "      <td>0.010</td>\n",
       "      <td>3500000.0</td>\n",
       "      <td>6.100000e+09</td>\n",
       "      <td>NaN</td>\n",
       "    </tr>\n",
       "    <tr>\n",
       "      <th>3</th>\n",
       "      <td>4</td>\n",
       "      <td>selenagomez</td>\n",
       "      <td>93</td>\n",
       "      <td>348800000.0</td>\n",
       "      <td>6100000.0</td>\n",
       "      <td>1900.0</td>\n",
       "      <td>0.005</td>\n",
       "      <td>1700000.0</td>\n",
       "      <td>1.140000e+10</td>\n",
       "      <td>United States</td>\n",
       "    </tr>\n",
       "    <tr>\n",
       "      <th>4</th>\n",
       "      <td>5</td>\n",
       "      <td>therock</td>\n",
       "      <td>91</td>\n",
       "      <td>339400000.0</td>\n",
       "      <td>1800000.0</td>\n",
       "      <td>6800.0</td>\n",
       "      <td>0.003</td>\n",
       "      <td>932000.0</td>\n",
       "      <td>1.260000e+10</td>\n",
       "      <td>United States</td>\n",
       "    </tr>\n",
       "  </tbody>\n",
       "</table>\n",
       "</div>"
      ],
      "text/plain": [
       "   Rank Channel Info  Influence Score    Followers  Avg. Likes   Posts  \\\n",
       "0     1    cristiano               92  485200000.0   8700000.0  3400.0   \n",
       "1     2  kyliejenner               91  370700000.0   8200000.0  7000.0   \n",
       "2     3     leomessi               90  363900000.0   6700000.0   915.0   \n",
       "3     4  selenagomez               93  348800000.0   6100000.0  1900.0   \n",
       "4     5      therock               91  339400000.0   1800000.0  6800.0   \n",
       "\n",
       "   60-Day Eng Rate  New Post Avg. Likes   Total Likes Country Or Region  \n",
       "0            0.013            6300000.0  2.910000e+10             Spain  \n",
       "1            0.014            5000000.0  5.740000e+10     United States  \n",
       "2            0.010            3500000.0  6.100000e+09               NaN  \n",
       "3            0.005            1700000.0  1.140000e+10     United States  \n",
       "4            0.003             932000.0  1.260000e+10     United States  "
      ]
     },
     "execution_count": 52,
     "metadata": {},
     "output_type": "execute_result"
    }
   ],
   "source": [
    "df.head()"
   ]
  },
  {
   "cell_type": "code",
   "execution_count": 21,
   "id": "478b72e8",
   "metadata": {},
   "outputs": [
    {
     "data": {
      "text/plain": [
       "Rank                    0\n",
       "Channel Info            0\n",
       "Influence Score         0\n",
       "Followers               0\n",
       "Avg. Likes              0\n",
       "Posts                   0\n",
       "60-Day Eng Rate         0\n",
       "New Post Avg. Likes     0\n",
       "Total Likes             0\n",
       "Country Or Region      63\n",
       "dtype: int64"
      ]
     },
     "execution_count": 21,
     "metadata": {},
     "output_type": "execute_result"
    }
   ],
   "source": [
    "df.isnull().sum()"
   ]
  },
  {
   "cell_type": "code",
   "execution_count": 22,
   "id": "f4f16f9a",
   "metadata": {},
   "outputs": [
    {
     "name": "stderr",
     "output_type": "stream",
     "text": [
      "C:\\Users\\ADMIN\\AppData\\Local\\Temp\\ipykernel_12448\\1134722465.py:1: FutureWarning: The default value of numeric_only in DataFrame.corr is deprecated. In a future version, it will default to False. Select only valid columns or specify the value of numeric_only to silence this warning.\n",
      "  df.corr()\n"
     ]
    },
    {
     "data": {
      "text/html": [
       "<div>\n",
       "<style scoped>\n",
       "    .dataframe tbody tr th:only-of-type {\n",
       "        vertical-align: middle;\n",
       "    }\n",
       "\n",
       "    .dataframe tbody tr th {\n",
       "        vertical-align: top;\n",
       "    }\n",
       "\n",
       "    .dataframe thead th {\n",
       "        text-align: right;\n",
       "    }\n",
       "</style>\n",
       "<table border=\"1\" class=\"dataframe\">\n",
       "  <thead>\n",
       "    <tr style=\"text-align: right;\">\n",
       "      <th></th>\n",
       "      <th>Rank</th>\n",
       "      <th>Influence Score</th>\n",
       "      <th>Followers</th>\n",
       "      <th>Avg. Likes</th>\n",
       "      <th>Posts</th>\n",
       "      <th>60-Day Eng Rate</th>\n",
       "      <th>New Post Avg. Likes</th>\n",
       "      <th>Total Likes</th>\n",
       "    </tr>\n",
       "  </thead>\n",
       "  <tbody>\n",
       "    <tr>\n",
       "      <th>Rank</th>\n",
       "      <td>1.000000</td>\n",
       "      <td>-0.354843</td>\n",
       "      <td>-0.698193</td>\n",
       "      <td>-0.277699</td>\n",
       "      <td>-0.058132</td>\n",
       "      <td>0.028900</td>\n",
       "      <td>-0.272323</td>\n",
       "      <td>-0.465119</td>\n",
       "    </tr>\n",
       "    <tr>\n",
       "      <th>Influence Score</th>\n",
       "      <td>-0.354843</td>\n",
       "      <td>1.000000</td>\n",
       "      <td>0.365428</td>\n",
       "      <td>0.048502</td>\n",
       "      <td>0.168287</td>\n",
       "      <td>-0.072460</td>\n",
       "      <td>0.040011</td>\n",
       "      <td>0.234987</td>\n",
       "    </tr>\n",
       "    <tr>\n",
       "      <th>Followers</th>\n",
       "      <td>-0.698193</td>\n",
       "      <td>0.365428</td>\n",
       "      <td>1.000000</td>\n",
       "      <td>0.346829</td>\n",
       "      <td>0.069171</td>\n",
       "      <td>-0.107439</td>\n",
       "      <td>0.260764</td>\n",
       "      <td>0.667546</td>\n",
       "    </tr>\n",
       "    <tr>\n",
       "      <th>Avg. Likes</th>\n",
       "      <td>-0.277699</td>\n",
       "      <td>0.048502</td>\n",
       "      <td>0.346829</td>\n",
       "      <td>1.000000</td>\n",
       "      <td>-0.348795</td>\n",
       "      <td>0.789359</td>\n",
       "      <td>0.892784</td>\n",
       "      <td>0.361296</td>\n",
       "    </tr>\n",
       "    <tr>\n",
       "      <th>Posts</th>\n",
       "      <td>-0.058132</td>\n",
       "      <td>0.168287</td>\n",
       "      <td>0.069171</td>\n",
       "      <td>-0.348795</td>\n",
       "      <td>1.000000</td>\n",
       "      <td>-0.334047</td>\n",
       "      <td>-0.285154</td>\n",
       "      <td>0.232038</td>\n",
       "    </tr>\n",
       "    <tr>\n",
       "      <th>60-Day Eng Rate</th>\n",
       "      <td>0.028900</td>\n",
       "      <td>-0.072460</td>\n",
       "      <td>-0.107439</td>\n",
       "      <td>0.789359</td>\n",
       "      <td>-0.334047</td>\n",
       "      <td>1.000000</td>\n",
       "      <td>0.866293</td>\n",
       "      <td>-0.001560</td>\n",
       "    </tr>\n",
       "    <tr>\n",
       "      <th>New Post Avg. Likes</th>\n",
       "      <td>-0.272323</td>\n",
       "      <td>0.040011</td>\n",
       "      <td>0.260764</td>\n",
       "      <td>0.892784</td>\n",
       "      <td>-0.285154</td>\n",
       "      <td>0.866293</td>\n",
       "      <td>1.000000</td>\n",
       "      <td>0.351335</td>\n",
       "    </tr>\n",
       "    <tr>\n",
       "      <th>Total Likes</th>\n",
       "      <td>-0.465119</td>\n",
       "      <td>0.234987</td>\n",
       "      <td>0.667546</td>\n",
       "      <td>0.361296</td>\n",
       "      <td>0.232038</td>\n",
       "      <td>-0.001560</td>\n",
       "      <td>0.351335</td>\n",
       "      <td>1.000000</td>\n",
       "    </tr>\n",
       "  </tbody>\n",
       "</table>\n",
       "</div>"
      ],
      "text/plain": [
       "                         Rank  Influence Score  Followers  Avg. Likes  \\\n",
       "Rank                 1.000000        -0.354843  -0.698193   -0.277699   \n",
       "Influence Score     -0.354843         1.000000   0.365428    0.048502   \n",
       "Followers           -0.698193         0.365428   1.000000    0.346829   \n",
       "Avg. Likes          -0.277699         0.048502   0.346829    1.000000   \n",
       "Posts               -0.058132         0.168287   0.069171   -0.348795   \n",
       "60-Day Eng Rate      0.028900        -0.072460  -0.107439    0.789359   \n",
       "New Post Avg. Likes -0.272323         0.040011   0.260764    0.892784   \n",
       "Total Likes         -0.465119         0.234987   0.667546    0.361296   \n",
       "\n",
       "                        Posts  60-Day Eng Rate  New Post Avg. Likes  \\\n",
       "Rank                -0.058132         0.028900            -0.272323   \n",
       "Influence Score      0.168287        -0.072460             0.040011   \n",
       "Followers            0.069171        -0.107439             0.260764   \n",
       "Avg. Likes          -0.348795         0.789359             0.892784   \n",
       "Posts                1.000000        -0.334047            -0.285154   \n",
       "60-Day Eng Rate     -0.334047         1.000000             0.866293   \n",
       "New Post Avg. Likes -0.285154         0.866293             1.000000   \n",
       "Total Likes          0.232038        -0.001560             0.351335   \n",
       "\n",
       "                     Total Likes  \n",
       "Rank                   -0.465119  \n",
       "Influence Score         0.234987  \n",
       "Followers               0.667546  \n",
       "Avg. Likes              0.361296  \n",
       "Posts                   0.232038  \n",
       "60-Day Eng Rate        -0.001560  \n",
       "New Post Avg. Likes     0.351335  \n",
       "Total Likes             1.000000  "
      ]
     },
     "execution_count": 22,
     "metadata": {},
     "output_type": "execute_result"
    }
   ],
   "source": [
    "df.corr()"
   ]
  },
  {
   "cell_type": "code",
   "execution_count": 23,
   "id": "179e231d",
   "metadata": {},
   "outputs": [
    {
     "data": {
      "text/plain": [
       "(array([  1.,   0.,   3.,   1.,   1.,   2.,   3.,  25., 107.,  57.]),\n",
       " array([22. , 29.1, 36.2, 43.3, 50.4, 57.5, 64.6, 71.7, 78.8, 85.9, 93. ]),\n",
       " <BarContainer object of 10 artists>)"
      ]
     },
     "execution_count": 23,
     "metadata": {},
     "output_type": "execute_result"
    },
    {
     "data": {
      "image/png": "[encoded data removed]",
      "text/plain": [
       "<Figure size 432x288 with 1 Axes>"
      ]
     },
     "metadata": {
      "needs_background": "light"
     },
     "output_type": "display_data"
    }
   ],
   "source": [
    "plt.hist(df['Influence Score']) "
   ]
  },
  {
   "cell_type": "code",
   "execution_count": 24,
   "id": "66c4a528",
   "metadata": {},
   "outputs": [
    {
     "data": {
      "text/plain": [
       "(array([161.,  10.,   8.,   5.,   6.,   3.,   4.,   2.,   0.,   1.]),\n",
       " array([3.3400e+07, 7.8580e+07, 1.2376e+08, 1.6894e+08, 2.1412e+08,\n",
       "        2.5930e+08, 3.0448e+08, 3.4966e+08, 3.9484e+08, 4.4002e+08,\n",
       "        4.8520e+08]),\n",
       " <BarContainer object of 10 artists>)"
      ]
     },
     "execution_count": 24,
     "metadata": {},
     "output_type": "execute_result"
    },
    {
     "data": {
      "image/png": "[encoded data removed]",
      "text/plain": [
       "<Figure size 432x288 with 1 Axes>"
      ]
     },
     "metadata": {
      "needs_background": "light"
     },
     "output_type": "display_data"
    }
   ],
   "source": [
    "plt.hist(df['Followers'])"
   ]
  },
  {
   "cell_type": "code",
   "execution_count": 25,
   "id": "4462e8a1",
   "metadata": {},
   "outputs": [
    {
     "data": {
      "text/plain": [
       "(array([84., 44., 22., 13., 11., 22.,  2.,  1.,  0.,  1.]),\n",
       " array([   20.,  1708.,  3396.,  5084.,  6772.,  8460., 10148., 11836.,\n",
       "        13524., 15212., 16900.]),\n",
       " <BarContainer object of 10 artists>)"
      ]
     },
     "execution_count": 25,
     "metadata": {},
     "output_type": "execute_result"
    },
    {
     "data": {
      "image/png": "[encoded data removed]",
      "text/plain": [
       "<Figure size 432x288 with 1 Axes>"
      ]
     },
     "metadata": {
      "needs_background": "light"
     },
     "output_type": "display_data"
    }
   ],
   "source": [
    "plt.hist(df['Posts'])"
   ]
  },
  {
   "cell_type": "code",
   "execution_count": 26,
   "id": "f06ed1f3",
   "metadata": {},
   "outputs": [
    {
     "data": {
      "text/plain": [
       "array(['Spain', 'United States', nan, 'Canada', 'Brazil', 'Netherlands',\n",
       "       'United Kingdom', 'India', 'Uruguay', 'Turkey', 'Indonesia',\n",
       "       'Colombia', 'France', 'Australia', 'Italy', 'United Arab Emirates',\n",
       "       'Puerto Rico', \"CÃ´te d'Ivoire\", 'Anguilla', 'Switzerland',\n",
       "       'Sweden', 'British Virgin Islands', 'Czech Republic', 'Mexico',\n",
       "       'Germany', 'Russia'], dtype=object)"
      ]
     },
     "execution_count": 26,
     "metadata": {},
     "output_type": "execute_result"
    }
   ],
   "source": [
    "df['Country Or Region'].unique()"
   ]
  },
  {
   "cell_type": "code",
   "execution_count": 27,
   "id": "2256b2bc",
   "metadata": {},
   "outputs": [
    {
     "name": "stdout",
     "output_type": "stream",
     "text": [
      "United States             65\n",
      "Brazil                    13\n",
      "India                     12\n",
      "Indonesia                  7\n",
      "France                     6\n",
      "Spain                      5\n",
      "United Kingdom             4\n",
      "Colombia                   3\n",
      "Canada                     3\n",
      "Mexico                     2\n",
      "Turkey                     2\n",
      "Netherlands                2\n",
      "Switzerland                1\n",
      "Germany                    1\n",
      "Czech Republic             1\n",
      "British Virgin Islands     1\n",
      "Sweden                     1\n",
      "Australia                  1\n",
      "Anguilla                   1\n",
      "CÃ´te d'Ivoire             1\n",
      "Puerto Rico                1\n",
      "United Arab Emirates       1\n",
      "Italy                      1\n",
      "Uruguay                    1\n",
      "Russia                     1\n",
      "Name: Country Or Region, dtype: int64\n"
     ]
    },
    {
     "data": {
      "text/plain": [
       "<Axes: >"
      ]
     },
     "execution_count": 27,
     "metadata": {},
     "output_type": "execute_result"
    },
    {
     "data": {
      "image/png": "[encoded data removed]",
      "text/plain": [
       "<Figure size 432x288 with 1 Axes>"
      ]
     },
     "metadata": {
      "needs_background": "light"
     },
     "output_type": "display_data"
    }
   ],
   "source": [
    "c=df['Country Or Region'].value_counts()\n",
    "print(c)\n",
    "c.plot.bar()"
   ]
  },
  {
   "cell_type": "code",
   "execution_count": 61,
   "id": "8e9701ce",
   "metadata": {},
   "outputs": [
    {
     "data": {
      "text/html": [
       "<div>\n",
       "<style scoped>\n",
       "    .dataframe tbody tr th:only-of-type {\n",
       "        vertical-align: middle;\n",
       "    }\n",
       "\n",
       "    .dataframe tbody tr th {\n",
       "        vertical-align: top;\n",
       "    }\n",
       "\n",
       "    .dataframe thead th {\n",
       "        text-align: right;\n",
       "    }\n",
       "</style>\n",
       "<table border=\"1\" class=\"dataframe\">\n",
       "  <thead>\n",
       "    <tr style=\"text-align: right;\">\n",
       "      <th></th>\n",
       "      <th>Channel Info</th>\n",
       "      <th>Followers</th>\n",
       "    </tr>\n",
       "  </thead>\n",
       "  <tbody>\n",
       "    <tr>\n",
       "      <th>0</th>\n",
       "      <td>cristiano</td>\n",
       "      <td>485200000.0</td>\n",
       "    </tr>\n",
       "    <tr>\n",
       "      <th>1</th>\n",
       "      <td>kyliejenner</td>\n",
       "      <td>370700000.0</td>\n",
       "    </tr>\n",
       "    <tr>\n",
       "      <th>2</th>\n",
       "      <td>leomessi</td>\n",
       "      <td>363900000.0</td>\n",
       "    </tr>\n",
       "    <tr>\n",
       "      <th>3</th>\n",
       "      <td>selenagomez</td>\n",
       "      <td>348800000.0</td>\n",
       "    </tr>\n",
       "    <tr>\n",
       "      <th>4</th>\n",
       "      <td>therock</td>\n",
       "      <td>339400000.0</td>\n",
       "    </tr>\n",
       "    <tr>\n",
       "      <th>5</th>\n",
       "      <td>arianagrande</td>\n",
       "      <td>333000000.0</td>\n",
       "    </tr>\n",
       "    <tr>\n",
       "      <th>6</th>\n",
       "      <td>kimkardashian</td>\n",
       "      <td>330700000.0</td>\n",
       "    </tr>\n",
       "    <tr>\n",
       "      <th>7</th>\n",
       "      <td>beyonce</td>\n",
       "      <td>276100000.0</td>\n",
       "    </tr>\n",
       "    <tr>\n",
       "      <th>8</th>\n",
       "      <td>khloekardashian</td>\n",
       "      <td>273900000.0</td>\n",
       "    </tr>\n",
       "    <tr>\n",
       "      <th>9</th>\n",
       "      <td>justinbieber</td>\n",
       "      <td>260000000.0</td>\n",
       "    </tr>\n",
       "  </tbody>\n",
       "</table>\n",
       "</div>"
      ],
      "text/plain": [
       "      Channel Info    Followers\n",
       "0        cristiano  485200000.0\n",
       "1      kyliejenner  370700000.0\n",
       "2         leomessi  363900000.0\n",
       "3      selenagomez  348800000.0\n",
       "4          therock  339400000.0\n",
       "5     arianagrande  333000000.0\n",
       "6    kimkardashian  330700000.0\n",
       "7          beyonce  276100000.0\n",
       "8  khloekardashian  273900000.0\n",
       "9     justinbieber  260000000.0"
      ]
     },
     "metadata": {},
     "output_type": "display_data"
    },
    {
     "data": {
      "application/vnd.plotly.v1+json": {
       "config": {
        "plotlyServerURL": "https://plot.ly"
       },
       "data": [
        {
         "alignmentgroup": "True",
         "hovertemplate": "Channel Info=%{x}<br>Followers=%{y}<extra></extra>",
         "legendgroup": "",
         "marker": {
          "color": "#636efa",
          "pattern": {
           "shape": ""
          }
         },
         "name": "",
         "offsetgroup": "",
         "orientation": "v",
         "showlegend": false,
         "textposition": "auto",
         "type": "bar",
         "x": [
          "cristiano",
          "kyliejenner",
          "leomessi",
          "selenagomez",
          "therock",
          "arianagrande",
          "kimkardashian",
          "beyonce",
          "khloekardashian",
          "justinbieber",
          "kendalljenner",
          "natgeo",
          "nike",
          "taylorswift",
          "jlo",
          "virat.kohli",
          "nickiminaj",
          "kourtneykardash",
          "mileycyrus",
          "neymarjr",
          "katyperry",
          "kevinhartreal",
          "zendaya",
          "iamcardib",
          "ddlovato",
          "badgalriri",
          "kingjames",
          "realmadrid",
          "theellenshow",
          "champagnepapi",
          "chrisbrownofficial",
          "fcbarcelona",
          "billieeilish",
          "gal_gadot",
          "dualipa",
          "vindiesel",
          "nasa",
          "priyankachopra",
          "lalalalisa_m",
          "snoopdogg",
          "Shakira",
          "gigihadid",
          "davidbeckham",
          "shraddhakapoor",
          "victoriassecret",
          "k.mbappe",
          "nehakakkar",
          "aliaabhatt",
          "nba",
          "shawnmendes",
          "jennierubyjane",
          "narendramodi",
          "deepikapadukone",
          "ronaldinho",
          "tomholland2013",
          "bts.bighitofficial",
          "emmawatson",
          "katrinakaif",
          "marvel",
          "justintimberlake",
          "camila_cabello",
          "sooyaaa__",
          "raffinagita1717",
          "jacquelinef143",
          "roses_are_rosie",
          "akshaykumar",
          "willsmith",
          "anitta",
          "maluma",
          "psg",
          "manchesterunited",
          "anushkasharma",
          "marcelotwelve",
          "whinderssonnunes",
          "milliebobbybrown",
          "karimbenzema",
          "gag",
          "karolg",
          "chrishemsworth",
          "iamzlatanibrahimovic",
          "paulpogba",
          "zacefron",
          "juventus",
          "bellahadid",
          "leonardodicaprio",
          "beingsalmankhan",
          "tatawerneck",
          "sunnyleone",
          "dishapatani",
          "sergioramos",
          "ladygaga",
          "robertdowneyjr",
          "mosalah",
          "jbalvin",
          "ayutingting92",
          "433",
          "thv",
          "hudabeauty",
          "michelleobama",
          "kritisanon",
          "adele",
          "krisjenner",
          "jamesrodriguez10",
          "blackpinkofficial",
          "lelepons",
          "prillylatuconsina96",
          "charlidamelio",
          "gucci",
          "paulodybala",
          "louisvuitton",
          "dovecameron",
          "jokowi",
          "haileybieber",
          "nusr_et",
          "garethbale",
          "harrystyles",
          "vanessahudgens",
          "larissamanoela",
          "zayn",
          "travisscott",
          "stephencurry30",
          "5-Minute Crafts GIRLY",
          "thenotoriousmma",
          "daddyyankee",
          "natgeotravel",
          "vancityreynolds",
          "nikefootball",
          "maisa",
          "jannatzubair29",
          "luissuarez9",
          "varundvn",
          "j.m",
          "hrithikroshan",
          "gusttavolima",
          "theweeknd",
          "nickyjampr",
          "buzzfeedtasty",
          "brunamarquezine",
          "badbunnypr",
          "kapilsharma",
          "caradelevingne",
          "norafatehi",
          "britneyspears",
          "mariliamendoncacantora",
          "dior",
          "cznburak",
          "ranveersingh",
          "marinaruybarbosa",
          "jenniferaniston",
          "ruben_onsu",
          "teddysphotos",
          "liverpoolfc",
          "princessyahrini",
          "andresiniesta8",
          "addisonraee",
          "natashawilona12",
          "mahi7781",
          "chrissyteigen",
          "worldstar",
          "georginagio",
          "wizkhalifa",
          "prattprattpratt",
          "anushkasen0408",
          "hm",
          "rkive",
          "marvelstudios",
          "parineetichopra",
          "wesleysafadao",
          "laudyacynthiabella",
          "gisel_la",
          "antogriezmann",
          "eminem",
          "mercedesbenz",
          "sachintendulkar",
          "nattinatasha",
          "tigerjackieshroff",
          "shahidkapoor",
          "kimberly.loaiza",
          "blakelively",
          "colesprouse",
          "simonemendes",
          "toni.krs",
          "lunamaya",
          "barackobama",
          "ivetesangalo",
          "paollaoliveirareal",
          "dannapaola",
          "disney",
          "shaymitchell",
          "adidasoriginals",
          "zidane",
          "bmw",
          "iambeckyg",
          "rashmika_mandanna",
          "sonamkapoor",
          "khabib_nurmagomedov",
          "danbilzerian",
          "raisa6690",
          "luansantana",
          "nancyajram"
         ],
         "xaxis": "x",
         "y": [
          485200000,
          370700000,
          363900000,
          348800000,
          339400000,
          333000000,
          330700000,
          276100000,
          273900000,
          260000000,
          258899999.99999997,
          241100000,
          239200000,
          226100000,
          223100000,
          215900000,
          202700000,
          199400000,
          183600000,
          179400000,
          173300000,
          154200000,
          153300000,
          141300000,
          140600000,
          136300000,
          133699999.99999999,
          125800000,
          125500000,
          121400000,
          121200000,
          112500000,
          106400000,
          88000000,
          87300000,
          83200000,
          83100000,
          82700000,
          82600000,
          76700000,
          76200000,
          75900000,
          75400000,
          75200000,
          73400000,
          72700000,
          71400000,
          71200000,
          71100000,
          70500000,
          70500000,
          70200000,
          69300000,
          68100000,
          68100000,
          68100000,
          67900000,
          67500000,
          66599999.99999999,
          66500000,
          65400000.00000001,
          64700000,
          64400000.00000001,
          63600000,
          63500000,
          63500000,
          63400000,
          63300000,
          62900000,
          62700000,
          60800000,
          60400000,
          59000000,
          58800000,
          58600000,
          58300000,
          58000000,
          56800000,
          56000000,
          55800000,
          55500000,
          55200000,
          55100000,
          55100000,
          55100000,
          54500000,
          54300000,
          54100000,
          53700000,
          53500000,
          53300000,
          53300000,
          52900000,
          52900000,
          52900000,
          51900000,
          51700000,
          51200000,
          51100000,
          51000000,
          50900000,
          50300000,
          50000000,
          49900000,
          49700000,
          49600000,
          49200000,
          49100000,
          49000000,
          48900000,
          48600000,
          48500000,
          48300000,
          48200000,
          48100000,
          47600000,
          47400000,
          47300000,
          47300000,
          46500000,
          46400000,
          46200000,
          46200000,
          46100000,
          45800000,
          45600000,
          45400000,
          45100000,
          44600000,
          44400000,
          44400000,
          44200000,
          44200000,
          44100000,
          43800000,
          43500000,
          43500000,
          43400000,
          43400000,
          43100000,
          42900000,
          42500000,
          42100000,
          41800000,
          41800000,
          41400000,
          41400000,
          41100000,
          40800000,
          40700000,
          40600000,
          40600000,
          40500000,
          40300000,
          39800000,
          39700000,
          39500000,
          39400000,
          39200000,
          39200000,
          39100000,
          39000000,
          38900000,
          38500000,
          38400000,
          38400000,
          38300000,
          37800000,
          37300000,
          36800000,
          36700000,
          36600000,
          36200000,
          36100000,
          36100000,
          36000000,
          36000000,
          36000000,
          35900000,
          35800000,
          35700000,
          35600000,
          35400000,
          35400000,
          35100000,
          34900000,
          34800000,
          34700000,
          34500000,
          34100000,
          34000000,
          33800000,
          33800000,
          33800000,
          33700000,
          33600000,
          33600000,
          33600000,
          33500000,
          33400000
         ],
         "yaxis": "y"
        }
       ],
       "layout": {
        "barmode": "relative",
        "legend": {
         "tracegroupgap": 0
        },
        "template": {
         "data": {
          "bar": [
           {
            "error_x": {
             "color": "#2a3f5f"
            },
            "error_y": {
             "color": "#2a3f5f"
            },
            "marker": {
             "line": {
              "color": "#E5ECF6",
              "width": 0.5
             },
             "pattern": {
              "fillmode": "overlay",
              "size": 10,
              "solidity": 0.2
             }
            },
            "type": "bar"
           }
          ],
          "barpolar": [
           {
            "marker": {
             "line": {
              "color": "#E5ECF6",
              "width": 0.5
             },
             "pattern": {
              "fillmode": "overlay",
              "size": 10,
              "solidity": 0.2
             }
            },
            "type": "barpolar"
           }
          ],
          "carpet": [
           {
            "aaxis": {
             "endlinecolor": "#2a3f5f",
             "gridcolor": "white",
             "linecolor": "white",
             "minorgridcolor": "white",
             "startlinecolor": "#2a3f5f"
            },
            "baxis": {
             "endlinecolor": "#2a3f5f",
             "gridcolor": "white",
             "linecolor": "white",
             "minorgridcolor": "white",
             "startlinecolor": "#2a3f5f"
            },
            "type": "carpet"
           }
          ],
          "choropleth": [
           {
            "colorbar": {
             "outlinewidth": 0,
             "ticks": ""
            },
            "type": "choropleth"
           }
          ],
          "contour": [
           {
            "colorbar": {
             "outlinewidth": 0,
             "ticks": ""
            },
            "colorscale": [
             [
              0,
              "#0d0887"
             ],
             [
              0.1111111111111111,
              "#46039f"
             ],
             [
              0.2222222222222222,
              "#7201a8"
             ],
             [
              0.3333333333333333,
              "#9c179e"
             ],
             [
              0.4444444444444444,
              "#bd3786"
             ],
             [
              0.5555555555555556,
              "#d8576b"
             ],
             [
              0.6666666666666666,
              "#ed7953"
             ],
             [
              0.7777777777777778,
              "#fb9f3a"
             ],
             [
              0.8888888888888888,
              "#fdca26"
             ],
             [
              1,
              "#f0f921"
             ]
            ],
            "type": "contour"
           }
          ],
          "contourcarpet": [
           {
            "colorbar": {
             "outlinewidth": 0,
             "ticks": ""
            },
            "type": "contourcarpet"
           }
          ],
          "heatmap": [
           {
            "colorbar": {
             "outlinewidth": 0,
             "ticks": ""
            },
            "colorscale": [
             [
              0,
              "#0d0887"
             ],
             [
              0.1111111111111111,
              "#46039f"
             ],
             [
              0.2222222222222222,
              "#7201a8"
             ],
             [
              0.3333333333333333,
              "#9c179e"
             ],
             [
              0.4444444444444444,
              "#bd3786"
             ],
             [
              0.5555555555555556,
              "#d8576b"
             ],
             [
              0.6666666666666666,
              "#ed7953"
             ],
             [
              0.7777777777777778,
              "#fb9f3a"
             ],
             [
              0.8888888888888888,
              "#fdca26"
             ],
             [
              1,
              "#f0f921"
             ]
            ],
            "type": "heatmap"
           }
          ],
          "heatmapgl": [
           {
            "colorbar": {
             "outlinewidth": 0,
             "ticks": ""
            },
            "colorscale": [
             [
              0,
              "#0d0887"
             ],
             [
              0.1111111111111111,
              "#46039f"
             ],
             [
              0.2222222222222222,
              "#7201a8"
             ],
             [
              0.3333333333333333,
              "#9c179e"
             ],
             [
              0.4444444444444444,
              "#bd3786"
             ],
             [
              0.5555555555555556,
              "#d8576b"
             ],
             [
              0.6666666666666666,
              "#ed7953"
             ],
             [
              0.7777777777777778,
              "#fb9f3a"
             ],
             [
              0.8888888888888888,
              "#fdca26"
             ],
             [
              1,
              "#f0f921"
             ]
            ],
            "type": "heatmapgl"
           }
          ],
          "histogram": [
           {
            "marker": {
             "pattern": {
              "fillmode": "overlay",
              "size": 10,
              "solidity": 0.2
             }
            },
            "type": "histogram"
           }
          ],
          "histogram2d": [
           {
            "colorbar": {
             "outlinewidth": 0,
             "ticks": ""
            },
            "colorscale": [
             [
              0,
              "#0d0887"
             ],
             [
              0.1111111111111111,
              "#46039f"
             ],
             [
              0.2222222222222222,
              "#7201a8"
             ],
             [
              0.3333333333333333,
              "#9c179e"
             ],
             [
              0.4444444444444444,
              "#bd3786"
             ],
             [
              0.5555555555555556,
              "#d8576b"
             ],
             [
              0.6666666666666666,
              "#ed7953"
             ],
             [
              0.7777777777777778,
              "#fb9f3a"
             ],
             [
              0.8888888888888888,
              "#fdca26"
             ],
             [
              1,
              "#f0f921"
             ]
            ],
            "type": "histogram2d"
           }
          ],
          "histogram2dcontour": [
           {
            "colorbar": {
             "outlinewidth": 0,
             "ticks": ""
            },
            "colorscale": [
             [
              0,
              "#0d0887"
             ],
             [
              0.1111111111111111,
              "#46039f"
             ],
             [
              0.2222222222222222,
              "#7201a8"
             ],
             [
              0.3333333333333333,
              "#9c179e"
             ],
             [
              0.4444444444444444,
              "#bd3786"
             ],
             [
              0.5555555555555556,
              "#d8576b"
             ],
             [
              0.6666666666666666,
              "#ed7953"
             ],
             [
              0.7777777777777778,
              "#fb9f3a"
             ],
             [
              0.8888888888888888,
              "#fdca26"
             ],
             [
              1,
              "#f0f921"
             ]
            ],
            "type": "histogram2dcontour"
           }
          ],
          "mesh3d": [
           {
            "colorbar": {
             "outlinewidth": 0,
             "ticks": ""
            },
            "type": "mesh3d"
           }
          ],
          "parcoords": [
           {
            "line": {
             "colorbar": {
              "outlinewidth": 0,
              "ticks": ""
             }
            },
            "type": "parcoords"
           }
          ],
          "pie": [
           {
            "automargin": true,
            "type": "pie"
           }
          ],
          "scatter": [
           {
            "marker": {
             "colorbar": {
              "outlinewidth": 0,
              "ticks": ""
             }
            },
            "type": "scatter"
           }
          ],
          "scatter3d": [
           {
            "line": {
             "colorbar": {
              "outlinewidth": 0,
              "ticks": ""
             }
            },
            "marker": {
             "colorbar": {
              "outlinewidth": 0,
              "ticks": ""
             }
            },
            "type": "scatter3d"
           }
          ],
          "scattercarpet": [
           {
            "marker": {
             "colorbar": {
              "outlinewidth": 0,
              "ticks": ""
             }
            },
            "type": "scattercarpet"
           }
          ],
          "scattergeo": [
           {
            "marker": {
             "colorbar": {
              "outlinewidth": 0,
              "ticks": ""
             }
            },
            "type": "scattergeo"
           }
          ],
          "scattergl": [
           {
            "marker": {
             "colorbar": {
              "outlinewidth": 0,
              "ticks": ""
             }
            },
            "type": "scattergl"
           }
          ],
          "scattermapbox": [
           {
            "marker": {
             "colorbar": {
              "outlinewidth": 0,
              "ticks": ""
             }
            },
            "type": "scattermapbox"
           }
          ],
          "scatterpolar": [
           {
            "marker": {
             "colorbar": {
              "outlinewidth": 0,
              "ticks": ""
             }
            },
            "type": "scatterpolar"
           }
          ],
          "scatterpolargl": [
           {
            "marker": {
             "colorbar": {
              "outlinewidth": 0,
              "ticks": ""
             }
            },
            "type": "scatterpolargl"
           }
          ],
          "scatterternary": [
           {
            "marker": {
             "colorbar": {
              "outlinewidth": 0,
              "ticks": ""
             }
            },
            "type": "scatterternary"
           }
          ],
          "surface": [
           {
            "colorbar": {
             "outlinewidth": 0,
             "ticks": ""
            },
            "colorscale": [
             [
              0,
              "#0d0887"
             ],
             [
              0.1111111111111111,
              "#46039f"
             ],
             [
              0.2222222222222222,
              "#7201a8"
             ],
             [
              0.3333333333333333,
              "#9c179e"
             ],
             [
              0.4444444444444444,
              "#bd3786"
             ],
             [
              0.5555555555555556,
              "#d8576b"
             ],
             [
              0.6666666666666666,
              "#ed7953"
             ],
             [
              0.7777777777777778,
              "#fb9f3a"
             ],
             [
              0.8888888888888888,
              "#fdca26"
             ],
             [
              1,
              "#f0f921"
             ]
            ],
            "type": "surface"
           }
          ],
          "table": [
           {
            "cells": {
             "fill": {
              "color": "#EBF0F8"
             },
             "line": {
              "color": "white"
             }
            },
            "header": {
             "fill": {
              "color": "#C8D4E3"
             },
             "line": {
              "color": "white"
             }
            },
            "type": "table"
           }
          ]
         },
         "layout": {
          "annotationdefaults": {
           "arrowcolor": "#2a3f5f",
           "arrowhead": 0,
           "arrowwidth": 1
          },
          "autotypenumbers": "strict",
          "coloraxis": {
           "colorbar": {
            "outlinewidth": 0,
            "ticks": ""
           }
          },
          "colorscale": {
           "diverging": [
            [
             0,
             "#8e0152"
            ],
            [
             0.1,
             "#c51b7d"
            ],
            [
             0.2,
             "#de77ae"
            ],
            [
             0.3,
             "#f1b6da"
            ],
            [
             0.4,
             "#fde0ef"
            ],
            [
             0.5,
             "#f7f7f7"
            ],
            [
             0.6,
             "#e6f5d0"
            ],
            [
             0.7,
             "#b8e186"
            ],
            [
             0.8,
             "#7fbc41"
            ],
            [
             0.9,
             "#4d9221"
            ],
            [
             1,
             "#276419"
            ]
           ],
           "sequential": [
            [
             0,
             "#0d0887"
            ],
            [
             0.1111111111111111,
             "#46039f"
            ],
            [
             0.2222222222222222,
             "#7201a8"
            ],
            [
             0.3333333333333333,
             "#9c179e"
            ],
            [
             0.4444444444444444,
             "#bd3786"
            ],
            [
             0.5555555555555556,
             "#d8576b"
            ],
            [
             0.6666666666666666,
             "#ed7953"
            ],
            [
             0.7777777777777778,
             "#fb9f3a"
            ],
            [
             0.8888888888888888,
             "#fdca26"
            ],
            [
             1,
             "#f0f921"
            ]
           ],
           "sequentialminus": [
            [
             0,
             "#0d0887"
            ],
            [
             0.1111111111111111,
             "#46039f"
            ],
            [
             0.2222222222222222,
             "#7201a8"
            ],
            [
             0.3333333333333333,
             "#9c179e"
            ],
            [
             0.4444444444444444,
             "#bd3786"
            ],
            [
             0.5555555555555556,
             "#d8576b"
            ],
            [
             0.6666666666666666,
             "#ed7953"
            ],
            [
             0.7777777777777778,
             "#fb9f3a"
            ],
            [
             0.8888888888888888,
             "#fdca26"
            ],
            [
             1,
             "#f0f921"
            ]
           ]
          },
          "colorway": [
           "#636efa",
           "#EF553B",
           "#00cc96",
           "#ab63fa",
           "#FFA15A",
           "#19d3f3",
           "#FF6692",
           "#B6E880",
           "#FF97FF",
           "#FECB52"
          ],
          "font": {
           "color": "#2a3f5f"
          },
          "geo": {
           "bgcolor": "white",
           "lakecolor": "white",
           "landcolor": "#E5ECF6",
           "showlakes": true,
           "showland": true,
           "subunitcolor": "white"
          },
          "hoverlabel": {
           "align": "left"
          },
          "hovermode": "closest",
          "mapbox": {
           "style": "light"
          },
          "paper_bgcolor": "white",
          "plot_bgcolor": "#E5ECF6",
          "polar": {
           "angularaxis": {
            "gridcolor": "white",
            "linecolor": "white",
            "ticks": ""
           },
           "bgcolor": "#E5ECF6",
           "radialaxis": {
            "gridcolor": "white",
            "linecolor": "white",
            "ticks": ""
           }
          },
          "scene": {
           "xaxis": {
            "backgroundcolor": "#E5ECF6",
            "gridcolor": "white",
            "gridwidth": 2,
            "linecolor": "white",
            "showbackground": true,
            "ticks": "",
            "zerolinecolor": "white"
           },
           "yaxis": {
            "backgroundcolor": "#E5ECF6",
            "gridcolor": "white",
            "gridwidth": 2,
            "linecolor": "white",
            "showbackground": true,
            "ticks": "",
            "zerolinecolor": "white"
           },
           "zaxis": {
            "backgroundcolor": "#E5ECF6",
            "gridcolor": "white",
            "gridwidth": 2,
            "linecolor": "white",
            "showbackground": true,
            "ticks": "",
            "zerolinecolor": "white"
           }
          },
          "shapedefaults": {
           "line": {
            "color": "#2a3f5f"
           }
          },
          "ternary": {
           "aaxis": {
            "gridcolor": "white",
            "linecolor": "white",
            "ticks": ""
           },
           "baxis": {
            "gridcolor": "white",
            "linecolor": "white",
            "ticks": ""
           },
           "bgcolor": "#E5ECF6",
           "caxis": {
            "gridcolor": "white",
            "linecolor": "white",
            "ticks": ""
           }
          },
          "title": {
           "x": 0.05
          },
          "xaxis": {
           "automargin": true,
           "gridcolor": "white",
           "linecolor": "white",
           "ticks": "",
           "title": {
            "standoff": 15
           },
           "zerolinecolor": "white",
           "zerolinewidth": 2
          },
          "yaxis": {
           "automargin": true,
           "gridcolor": "white",
           "linecolor": "white",
           "ticks": "",
           "title": {
            "standoff": 15
           },
           "zerolinecolor": "white",
           "zerolinewidth": 2
          }
         }
        },
        "title": {
         "text": "Followers Ranknig by Channel Info"
        },
        "xaxis": {
         "anchor": "y",
         "domain": [
          0,
          1
         ],
         "title": {
          "text": "Channel Info"
         }
        },
        "yaxis": {
         "anchor": "x",
         "domain": [
          0,
          1
         ],
         "title": {
          "text": "Followers"
         }
        }
       }
      },
      "text/html": [
       "<div>                            <div id=\"632466f3-bc28-4d40-84bb-f1b13e7271f5\" class=\"plotly-graph-div\" style=\"height:525px; width:100%;\"></div>            <script type=\"text/javascript\">                require([\"plotly\"], function(Plotly) {                    window.PLOTLYENV=window.PLOTLYENV || {};                                    if (document.getElementById(\"632466f3-bc28-4d40-84bb-f1b13e7271f5\")) {                    Plotly.newPlot(                        \"632466f3-bc28-4d40-84bb-f1b13e7271f5\",                        [{\"alignmentgroup\":\"True\",\"hovertemplate\":\"Channel Info=%{x}<br>Followers=%{y}<extra></extra>\",\"legendgroup\":\"\",\"marker\":{\"color\":\"#636efa\",\"pattern\":{\"shape\":\"\"}},\"name\":\"\",\"offsetgroup\":\"\",\"orientation\":\"v\",\"showlegend\":false,\"textposition\":\"auto\",\"x\":[\"cristiano\",\"kyliejenner\",\"leomessi\",\"selenagomez\",\"therock\",\"arianagrande\",\"kimkardashian\",\"beyonce\",\"khloekardashian\",\"justinbieber\",\"kendalljenner\",\"natgeo\",\"nike\",\"taylorswift\",\"jlo\",\"virat.kohli\",\"nickiminaj\",\"kourtneykardash\",\"mileycyrus\",\"neymarjr\",\"katyperry\",\"kevinhartreal\",\"zendaya\",\"iamcardib\",\"ddlovato\",\"badgalriri\",\"kingjames\",\"realmadrid\",\"theellenshow\",\"champagnepapi\",\"chrisbrownofficial\",\"fcbarcelona\",\"billieeilish\",\"gal_gadot\",\"dualipa\",\"vindiesel\",\"nasa\",\"priyankachopra\",\"lalalalisa_m\",\"snoopdogg\",\"Shakira\",\"gigihadid\",\"davidbeckham\",\"shraddhakapoor\",\"victoriassecret\",\"k.mbappe\",\"nehakakkar\",\"aliaabhatt\",\"nba\",\"shawnmendes\",\"jennierubyjane\",\"narendramodi\",\"deepikapadukone\",\"ronaldinho\",\"tomholland2013\",\"bts.bighitofficial\",\"emmawatson\",\"katrinakaif\",\"marvel\",\"justintimberlake\",\"camila_cabello\",\"sooyaaa__\",\"raffinagita1717\",\"jacquelinef143\",\"roses_are_rosie\",\"akshaykumar\",\"willsmith\",\"anitta\",\"maluma\",\"psg\",\"manchesterunited\",\"anushkasharma\",\"marcelotwelve\",\"whinderssonnunes\",\"milliebobbybrown\",\"karimbenzema\",\"gag\",\"karolg\",\"chrishemsworth\",\"iamzlatanibrahimovic\",\"paulpogba\",\"zacefron\",\"juventus\",\"bellahadid\",\"leonardodicaprio\",\"beingsalmankhan\",\"tatawerneck\",\"sunnyleone\",\"dishapatani\",\"sergioramos\",\"ladygaga\",\"robertdowneyjr\",\"mosalah\",\"jbalvin\",\"ayutingting92\",\"433\",\"thv\",\"hudabeauty\",\"michelleobama\",\"kritisanon\",\"adele\",\"krisjenner\",\"jamesrodriguez10\",\"blackpinkofficial\",\"lelepons\",\"prillylatuconsina96\",\"charlidamelio\",\"gucci\",\"paulodybala\",\"louisvuitton\",\"dovecameron\",\"jokowi\",\"haileybieber\",\"nusr_et\",\"garethbale\",\"harrystyles\",\"vanessahudgens\",\"larissamanoela\",\"zayn\",\"travisscott\",\"stephencurry30\",\"5-Minute Crafts GIRLY\",\"thenotoriousmma\",\"daddyyankee\",\"natgeotravel\",\"vancityreynolds\",\"nikefootball\",\"maisa\",\"jannatzubair29\",\"luissuarez9\",\"varundvn\",\"j.m\",\"hrithikroshan\",\"gusttavolima\",\"theweeknd\",\"nickyjampr\",\"buzzfeedtasty\",\"brunamarquezine\",\"badbunnypr\",\"kapilsharma\",\"caradelevingne\",\"norafatehi\",\"britneyspears\",\"mariliamendoncacantora\",\"dior\",\"cznburak\",\"ranveersingh\",\"marinaruybarbosa\",\"jenniferaniston\",\"ruben_onsu\",\"teddysphotos\",\"liverpoolfc\",\"princessyahrini\",\"andresiniesta8\",\"addisonraee\",\"natashawilona12\",\"mahi7781\",\"chrissyteigen\",\"worldstar\",\"georginagio\",\"wizkhalifa\",\"prattprattpratt\",\"anushkasen0408\",\"hm\",\"rkive\",\"marvelstudios\",\"parineetichopra\",\"wesleysafadao\",\"laudyacynthiabella\",\"gisel_la\",\"antogriezmann\",\"eminem\",\"mercedesbenz\",\"sachintendulkar\",\"nattinatasha\",\"tigerjackieshroff\",\"shahidkapoor\",\"kimberly.loaiza\",\"blakelively\",\"colesprouse\",\"simonemendes\",\"toni.krs\",\"lunamaya\",\"barackobama\",\"ivetesangalo\",\"paollaoliveirareal\",\"dannapaola\",\"disney\",\"shaymitchell\",\"adidasoriginals\",\"zidane\",\"bmw\",\"iambeckyg\",\"rashmika_mandanna\",\"sonamkapoor\",\"khabib_nurmagomedov\",\"danbilzerian\",\"raisa6690\",\"luansantana\",\"nancyajram\"],\"xaxis\":\"x\",\"y\":[485200000.0,370700000.0,363900000.0,348800000.0,339400000.0,333000000.0,330700000.0,276100000.0,273900000.0,260000000.0,258899999.99999997,241100000.0,239200000.0,226100000.0,223100000.0,215900000.0,202700000.0,199400000.0,183600000.0,179400000.0,173300000.0,154200000.0,153300000.0,141300000.0,140600000.0,136300000.0,133699999.99999999,125800000.0,125500000.0,121400000.0,121200000.0,112500000.0,106400000.0,88000000.0,87300000.0,83200000.0,83100000.0,82700000.0,82600000.0,76700000.0,76200000.0,75900000.0,75400000.0,75200000.0,73400000.0,72700000.0,71400000.0,71200000.0,71100000.0,70500000.0,70500000.0,70200000.0,69300000.0,68100000.0,68100000.0,68100000.0,67900000.0,67500000.0,66599999.99999999,66500000.0,65400000.00000001,64700000.0,64400000.00000001,63600000.0,63500000.0,63500000.0,63400000.0,63300000.0,62900000.0,62700000.0,60800000.0,60400000.0,59000000.0,58800000.0,58600000.0,58300000.0,58000000.0,56800000.0,56000000.0,55800000.0,55500000.0,55200000.0,55100000.0,55100000.0,55100000.0,54500000.0,54300000.0,54100000.0,53700000.0,53500000.0,53300000.0,53300000.0,52900000.0,52900000.0,52900000.0,51900000.0,51700000.0,51200000.0,51100000.0,51000000.0,50900000.0,50300000.0,50000000.0,49900000.0,49700000.0,49600000.0,49200000.0,49100000.0,49000000.0,48900000.0,48600000.0,48500000.0,48300000.0,48200000.0,48100000.0,47600000.0,47400000.0,47300000.0,47300000.0,46500000.0,46400000.0,46200000.0,46200000.0,46100000.0,45800000.0,45600000.0,45400000.0,45100000.0,44600000.0,44400000.0,44400000.0,44200000.0,44200000.0,44100000.0,43800000.0,43500000.0,43500000.0,43400000.0,43400000.0,43100000.0,42900000.0,42500000.0,42100000.0,41800000.0,41800000.0,41400000.0,41400000.0,41100000.0,40800000.0,40700000.0,40600000.0,40600000.0,40500000.0,40300000.0,39800000.0,39700000.0,39500000.0,39400000.0,39200000.0,39200000.0,39100000.0,39000000.0,38900000.0,38500000.0,38400000.0,38400000.0,38300000.0,37800000.0,37300000.0,36800000.0,36700000.0,36600000.0,36200000.0,36100000.0,36100000.0,36000000.0,36000000.0,36000000.0,35900000.0,35800000.0,35700000.0,35600000.0,35400000.0,35400000.0,35100000.0,34900000.0,34800000.0,34700000.0,34500000.0,34100000.0,34000000.0,33800000.0,33800000.0,33800000.0,33700000.0,33600000.0,33600000.0,33600000.0,33500000.0,33400000.0],\"yaxis\":\"y\",\"type\":\"bar\"}],                        {\"template\":{\"data\":{\"bar\":[{\"error_x\":{\"color\":\"#2a3f5f\"},\"error_y\":{\"color\":\"#2a3f5f\"},\"marker\":{\"line\":{\"color\":\"#E5ECF6\",\"width\":0.5},\"pattern\":{\"fillmode\":\"overlay\",\"size\":10,\"solidity\":0.2}},\"type\":\"bar\"}],\"barpolar\":[{\"marker\":{\"line\":{\"color\":\"#E5ECF6\",\"width\":0.5},\"pattern\":{\"fillmode\":\"overlay\",\"size\":10,\"solidity\":0.2}},\"type\":\"barpolar\"}],\"carpet\":[{\"aaxis\":{\"endlinecolor\":\"#2a3f5f\",\"gridcolor\":\"white\",\"linecolor\":\"white\",\"minorgridcolor\":\"white\",\"startlinecolor\":\"#2a3f5f\"},\"baxis\":{\"endlinecolor\":\"#2a3f5f\",\"gridcolor\":\"white\",\"linecolor\":\"white\",\"minorgridcolor\":\"white\",\"startlinecolor\":\"#2a3f5f\"},\"type\":\"carpet\"}],\"choropleth\":[{\"colorbar\":{\"outlinewidth\":0,\"ticks\":\"\"},\"type\":\"choropleth\"}],\"contour\":[{\"colorbar\":{\"outlinewidth\":0,\"ticks\":\"\"},\"colorscale\":[[0.0,\"#0d0887\"],[0.1111111111111111,\"#46039f\"],[0.2222222222222222,\"#7201a8\"],[0.3333333333333333,\"#9c179e\"],[0.4444444444444444,\"#bd3786\"],[0.5555555555555556,\"#d8576b\"],[0.6666666666666666,\"#ed7953\"],[0.7777777777777778,\"#fb9f3a\"],[0.8888888888888888,\"#fdca26\"],[1.0,\"#f0f921\"]],\"type\":\"contour\"}],\"contourcarpet\":[{\"colorbar\":{\"outlinewidth\":0,\"ticks\":\"\"},\"type\":\"contourcarpet\"}],\"heatmap\":[{\"colorbar\":{\"outlinewidth\":0,\"ticks\":\"\"},\"colorscale\":[[0.0,\"#0d0887\"],[0.1111111111111111,\"#46039f\"],[0.2222222222222222,\"#7201a8\"],[0.3333333333333333,\"#9c179e\"],[0.4444444444444444,\"#bd3786\"],[0.5555555555555556,\"#d8576b\"],[0.6666666666666666,\"#ed7953\"],[0.7777777777777778,\"#fb9f3a\"],[0.8888888888888888,\"#fdca26\"],[1.0,\"#f0f921\"]],\"type\":\"heatmap\"}],\"heatmapgl\":[{\"colorbar\":{\"outlinewidth\":0,\"ticks\":\"\"},\"colorscale\":[[0.0,\"#0d0887\"],[0.1111111111111111,\"#46039f\"],[0.2222222222222222,\"#7201a8\"],[0.3333333333333333,\"#9c179e\"],[0.4444444444444444,\"#bd3786\"],[0.5555555555555556,\"#d8576b\"],[0.6666666666666666,\"#ed7953\"],[0.7777777777777778,\"#fb9f3a\"],[0.8888888888888888,\"#fdca26\"],[1.0,\"#f0f921\"]],\"type\":\"heatmapgl\"}],\"histogram\":[{\"marker\":{\"pattern\":{\"fillmode\":\"overlay\",\"size\":10,\"solidity\":0.2}},\"type\":\"histogram\"}],\"histogram2d\":[{\"colorbar\":{\"outlinewidth\":0,\"ticks\":\"\"},\"colorscale\":[[0.0,\"#0d0887\"],[0.1111111111111111,\"#46039f\"],[0.2222222222222222,\"#7201a8\"],[0.3333333333333333,\"#9c179e\"],[0.4444444444444444,\"#bd3786\"],[0.5555555555555556,\"#d8576b\"],[0.6666666666666666,\"#ed7953\"],[0.7777777777777778,\"#fb9f3a\"],[0.8888888888888888,\"#fdca26\"],[1.0,\"#f0f921\"]],\"type\":\"histogram2d\"}],\"histogram2dcontour\":[{\"colorbar\":{\"outlinewidth\":0,\"ticks\":\"\"},\"colorscale\":[[0.0,\"#0d0887\"],[0.1111111111111111,\"#46039f\"],[0.2222222222222222,\"#7201a8\"],[0.3333333333333333,\"#9c179e\"],[0.4444444444444444,\"#bd3786\"],[0.5555555555555556,\"#d8576b\"],[0.6666666666666666,\"#ed7953\"],[0.7777777777777778,\"#fb9f3a\"],[0.8888888888888888,\"#fdca26\"],[1.0,\"#f0f921\"]],\"type\":\"histogram2dcontour\"}],\"mesh3d\":[{\"colorbar\":{\"outlinewidth\":0,\"ticks\":\"\"},\"type\":\"mesh3d\"}],\"parcoords\":[{\"line\":{\"colorbar\":{\"outlinewidth\":0,\"ticks\":\"\"}},\"type\":\"parcoords\"}],\"pie\":[{\"automargin\":true,\"type\":\"pie\"}],\"scatter\":[{\"marker\":{\"colorbar\":{\"outlinewidth\":0,\"ticks\":\"\"}},\"type\":\"scatter\"}],\"scatter3d\":[{\"line\":{\"colorbar\":{\"outlinewidth\":0,\"ticks\":\"\"}},\"marker\":{\"colorbar\":{\"outlinewidth\":0,\"ticks\":\"\"}},\"type\":\"scatter3d\"}],\"scattercarpet\":[{\"marker\":{\"colorbar\":{\"outlinewidth\":0,\"ticks\":\"\"}},\"type\":\"scattercarpet\"}],\"scattergeo\":[{\"marker\":{\"colorbar\":{\"outlinewidth\":0,\"ticks\":\"\"}},\"type\":\"scattergeo\"}],\"scattergl\":[{\"marker\":{\"colorbar\":{\"outlinewidth\":0,\"ticks\":\"\"}},\"type\":\"scattergl\"}],\"scattermapbox\":[{\"marker\":{\"colorbar\":{\"outlinewidth\":0,\"ticks\":\"\"}},\"type\":\"scattermapbox\"}],\"scatterpolar\":[{\"marker\":{\"colorbar\":{\"outlinewidth\":0,\"ticks\":\"\"}},\"type\":\"scatterpolar\"}],\"scatterpolargl\":[{\"marker\":{\"colorbar\":{\"outlinewidth\":0,\"ticks\":\"\"}},\"type\":\"scatterpolargl\"}],\"scatterternary\":[{\"marker\":{\"colorbar\":{\"outlinewidth\":0,\"ticks\":\"\"}},\"type\":\"scatterternary\"}],\"surface\":[{\"colorbar\":{\"outlinewidth\":0,\"ticks\":\"\"},\"colorscale\":[[0.0,\"#0d0887\"],[0.1111111111111111,\"#46039f\"],[0.2222222222222222,\"#7201a8\"],[0.3333333333333333,\"#9c179e\"],[0.4444444444444444,\"#bd3786\"],[0.5555555555555556,\"#d8576b\"],[0.6666666666666666,\"#ed7953\"],[0.7777777777777778,\"#fb9f3a\"],[0.8888888888888888,\"#fdca26\"],[1.0,\"#f0f921\"]],\"type\":\"surface\"}],\"table\":[{\"cells\":{\"fill\":{\"color\":\"#EBF0F8\"},\"line\":{\"color\":\"white\"}},\"header\":{\"fill\":{\"color\":\"#C8D4E3\"},\"line\":{\"color\":\"white\"}},\"type\":\"table\"}]},\"layout\":{\"annotationdefaults\":{\"arrowcolor\":\"#2a3f5f\",\"arrowhead\":0,\"arrowwidth\":1},\"autotypenumbers\":\"strict\",\"coloraxis\":{\"colorbar\":{\"outlinewidth\":0,\"ticks\":\"\"}},\"colorscale\":{\"diverging\":[[0,\"#8e0152\"],[0.1,\"#c51b7d\"],[0.2,\"#de77ae\"],[0.3,\"#f1b6da\"],[0.4,\"#fde0ef\"],[0.5,\"#f7f7f7\"],[0.6,\"#e6f5d0\"],[0.7,\"#b8e186\"],[0.8,\"#7fbc41\"],[0.9,\"#4d9221\"],[1,\"#276419\"]],\"sequential\":[[0.0,\"#0d0887\"],[0.1111111111111111,\"#46039f\"],[0.2222222222222222,\"#7201a8\"],[0.3333333333333333,\"#9c179e\"],[0.4444444444444444,\"#bd3786\"],[0.5555555555555556,\"#d8576b\"],[0.6666666666666666,\"#ed7953\"],[0.7777777777777778,\"#fb9f3a\"],[0.8888888888888888,\"#fdca26\"],[1.0,\"#f0f921\"]],\"sequentialminus\":[[0.0,\"#0d0887\"],[0.1111111111111111,\"#46039f\"],[0.2222222222222222,\"#7201a8\"],[0.3333333333333333,\"#9c179e\"],[0.4444444444444444,\"#bd3786\"],[0.5555555555555556,\"#d8576b\"],[0.6666666666666666,\"#ed7953\"],[0.7777777777777778,\"#fb9f3a\"],[0.8888888888888888,\"#fdca26\"],[1.0,\"#f0f921\"]]},\"colorway\":[\"#636efa\",\"#EF553B\",\"#00cc96\",\"#ab63fa\",\"#FFA15A\",\"#19d3f3\",\"#FF6692\",\"#B6E880\",\"#FF97FF\",\"#FECB52\"],\"font\":{\"color\":\"#2a3f5f\"},\"geo\":{\"bgcolor\":\"white\",\"lakecolor\":\"white\",\"landcolor\":\"#E5ECF6\",\"showlakes\":true,\"showland\":true,\"subunitcolor\":\"white\"},\"hoverlabel\":{\"align\":\"left\"},\"hovermode\":\"closest\",\"mapbox\":{\"style\":\"light\"},\"paper_bgcolor\":\"white\",\"plot_bgcolor\":\"#E5ECF6\",\"polar\":{\"angularaxis\":{\"gridcolor\":\"white\",\"linecolor\":\"white\",\"ticks\":\"\"},\"bgcolor\":\"#E5ECF6\",\"radialaxis\":{\"gridcolor\":\"white\",\"linecolor\":\"white\",\"ticks\":\"\"}},\"scene\":{\"xaxis\":{\"backgroundcolor\":\"#E5ECF6\",\"gridcolor\":\"white\",\"gridwidth\":2,\"linecolor\":\"white\",\"showbackground\":true,\"ticks\":\"\",\"zerolinecolor\":\"white\"},\"yaxis\":{\"backgroundcolor\":\"#E5ECF6\",\"gridcolor\":\"white\",\"gridwidth\":2,\"linecolor\":\"white\",\"showbackground\":true,\"ticks\":\"\",\"zerolinecolor\":\"white\"},\"zaxis\":{\"backgroundcolor\":\"#E5ECF6\",\"gridcolor\":\"white\",\"gridwidth\":2,\"linecolor\":\"white\",\"showbackground\":true,\"ticks\":\"\",\"zerolinecolor\":\"white\"}},\"shapedefaults\":{\"line\":{\"color\":\"#2a3f5f\"}},\"ternary\":{\"aaxis\":{\"gridcolor\":\"white\",\"linecolor\":\"white\",\"ticks\":\"\"},\"baxis\":{\"gridcolor\":\"white\",\"linecolor\":\"white\",\"ticks\":\"\"},\"bgcolor\":\"#E5ECF6\",\"caxis\":{\"gridcolor\":\"white\",\"linecolor\":\"white\",\"ticks\":\"\"}},\"title\":{\"x\":0.05},\"xaxis\":{\"automargin\":true,\"gridcolor\":\"white\",\"linecolor\":\"white\",\"ticks\":\"\",\"title\":{\"standoff\":15},\"zerolinecolor\":\"white\",\"zerolinewidth\":2},\"yaxis\":{\"automargin\":true,\"gridcolor\":\"white\",\"linecolor\":\"white\",\"ticks\":\"\",\"title\":{\"standoff\":15},\"zerolinecolor\":\"white\",\"zerolinewidth\":2}}},\"xaxis\":{\"anchor\":\"y\",\"domain\":[0.0,1.0],\"title\":{\"text\":\"Channel Info\"}},\"yaxis\":{\"anchor\":\"x\",\"domain\":[0.0,1.0],\"title\":{\"text\":\"Followers\"}},\"legend\":{\"tracegroupgap\":0},\"title\":{\"text\":\"Followers Ranknig by Channel Info\"},\"barmode\":\"relative\"},                        {\"responsive\": true}                    ).then(function(){\n",
       "                            \n",
       "var gd = document.getElementById('632466f3-bc28-4d40-84bb-f1b13e7271f5');\n",
       "var x = new MutationObserver(function (mutations, observer) {{\n",
       "        var display = window.getComputedStyle(gd).display;\n",
       "        if (!display || display === 'none') {{\n",
       "            console.log([gd, 'removed!']);\n",
       "            Plotly.purge(gd);\n",
       "            observer.disconnect();\n",
       "        }}\n",
       "}});\n",
       "\n",
       "// Listen for the removal of the full notebook cells\n",
       "var notebookContainer = gd.closest('#notebook-container');\n",
       "if (notebookContainer) {{\n",
       "    x.observe(notebookContainer, {childList: true});\n",
       "}}\n",
       "\n",
       "// Listen for the clearing of the current output cell\n",
       "var outputEl = gd.closest('.output');\n",
       "if (outputEl) {{\n",
       "    x.observe(outputEl, {childList: true});\n",
       "}}\n",
       "\n",
       "                        })                };                });            </script>        </div>"
      ]
     },
     "metadata": {},
     "output_type": "display_data"
    }
   ],
   "source": [
    "import plotly.express as px\n",
    "df1=df[['Channel Info','Followers']]\n",
    "df1=df1.sort_values('Followers',ascending=False)\n",
    "display(df1[0:10])\n",
    "fig = px.bar(df1[:200], x='Channel Info', y='Followers',title=\"Followers Ranknig by Channel Info\")\n",
    "fig.show()"
   ]
  },
  {
   "cell_type": "code",
   "execution_count": 31,
   "id": "0d369407",
   "metadata": {},
   "outputs": [
    {
     "data": {
      "text/plain": [
       "<matplotlib.collections.PathCollection at 0x176725268e0>"
      ]
     },
     "execution_count": 31,
     "metadata": {},
     "output_type": "execute_result"
    },
    {
     "data": {
      "image/png": "[encoded data removed]",
      "text/plain": [
       "<Figure size 432x288 with 1 Axes>"
      ]
     },
     "metadata": {
      "needs_background": "light"
     },
     "output_type": "display_data"
    }
   ],
   "source": [
    "plt.scatter(df['Followers'],df['Total Likes'])\n",
    "plt.scatter(df['Followers'],df['Influence Score'])"
   ]
  },
  {
   "cell_type": "code",
   "execution_count": 32,
   "id": "228efafe",
   "metadata": {},
   "outputs": [
    {
     "data": {
      "text/plain": [
       "[<matplotlib.lines.Line2D at 0x176721c6220>]"
      ]
     },
     "execution_count": 32,
     "metadata": {},
     "output_type": "execute_result"
    },
    {
     "data": {
      "image/png": "[encoded data removed]",
      "text/plain": [
       "<Figure size 432x288 with 1 Axes>"
      ]
     },
     "metadata": {
      "needs_background": "light"
     },
     "output_type": "display_data"
    }
   ],
   "source": [
    "color=['red']\n",
    "plt.plot(df['Followers'])\n",
    "plt.plot(df['Influence Score'])"
   ]
  },
  {
   "cell_type": "code",
   "execution_count": null,
   "id": "fdbda532",
   "metadata": {},
   "outputs": [],
   "source": []
  }
 ],
 "metadata": {
  "kernelspec": {
   "display_name": "Python 3 (ipykernel)",
   "language": "python",
   "name": "python3"
  },
  "language_info": {
   "codemirror_mode": {
    "name": "ipython",
    "version": 3
   },
   "file_extension": ".py",
   "mimetype": "text/x-python",
   "name": "python",
   "nbconvert_exporter": "python",
   "pygments_lexer": "ipython3",
   "version": "3.9.12"
  }
 },
 "nbformat": 4,
 "nbformat_minor": 5
}
